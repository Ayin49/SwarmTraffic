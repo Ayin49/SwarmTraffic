{
 "cells": [
  {
   "cell_type": "code",
   "execution_count": 3,
   "metadata": {
    "collapsed": true,
    "ExecuteTime": {
     "end_time": "2023-06-11T05:18:13.919691100Z",
     "start_time": "2023-06-11T05:18:13.907490200Z"
    }
   },
   "outputs": [],
   "source": [
    "import pandas as pd\n",
    "import os"
   ]
  },
  {
   "cell_type": "code",
   "execution_count": 22,
   "outputs": [],
   "source": [
    "path = '.\\\\stats\\\\parameters'\n",
    "df_list = []\n",
    "for filename in os.listdir(path):\n",
    "    parse = filename.split(\"_\")\n",
    "    a = float(parse[2])\n",
    "    b = float(parse[4])\n",
    "    g = float(parse[-1].strip(\".xml\"))\n",
    "    df = pd.read_xml(path + \"\\\\\" + filename)\n",
    "    df.insert(loc=0, column=\"alpha\", value=a)\n",
    "    df.insert(loc=1, column=\"beta\", value=b)\n",
    "    df.insert(loc=2, column=\"gamma\", value=g)\n",
    "    df_list.append(df)\n",
    "master_df = pd.concat(df_list, ignore_index=True)"
   ],
   "metadata": {
    "collapsed": false,
    "ExecuteTime": {
     "end_time": "2023-06-11T05:43:34.094059400Z",
     "start_time": "2023-06-11T05:41:12.562340Z"
    }
   }
  },
  {
   "cell_type": "code",
   "execution_count": 27,
   "outputs": [],
   "source": [
    "master_df.to_feather(\".\\\\stats\\\\parameter_scenarios.feather\")"
   ],
   "metadata": {
    "collapsed": false,
    "ExecuteTime": {
     "end_time": "2023-06-11T05:54:40.108605Z",
     "start_time": "2023-06-11T05:54:39.381394600Z"
    }
   }
  },
  {
   "cell_type": "code",
   "execution_count": null,
   "outputs": [],
   "source": [],
   "metadata": {
    "collapsed": false
   }
  }
 ],
 "metadata": {
  "kernelspec": {
   "display_name": "Python 3",
   "language": "python",
   "name": "python3"
  },
  "language_info": {
   "codemirror_mode": {
    "name": "ipython",
    "version": 2
   },
   "file_extension": ".py",
   "mimetype": "text/x-python",
   "name": "python",
   "nbconvert_exporter": "python",
   "pygments_lexer": "ipython2",
   "version": "2.7.6"
  }
 },
 "nbformat": 4,
 "nbformat_minor": 0
}
